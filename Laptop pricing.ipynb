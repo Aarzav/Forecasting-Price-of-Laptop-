{
 "cells": [
  {
   "cell_type": "markdown",
   "id": "99642907",
   "metadata": {},
   "source": [
    "# Importing Libraries"
   ]
  },
  {
   "cell_type": "code",
   "execution_count": 1,
   "id": "3ec5686c",
   "metadata": {},
   "outputs": [],
   "source": [
    "import pandas as pd\n",
    "from sklearn.metrics import mean_absolute_error,mean_squared_error,r2_score\n",
    "import numpy as np\n",
    "from sklearn.linear_model import LinearRegression\n",
    "from sklearn.linear_model import ElasticNet\n",
    "from sklearn.model_selection import train_test_split\n",
    "from sklearn.linear_model import Ridge\n",
    "from sklearn.linear_model import Lasso\n",
    "import warnings\n",
    "warnings.filterwarnings('ignore')"
   ]
  },
  {
   "cell_type": "markdown",
   "id": "2e5063c4",
   "metadata": {},
   "source": [
    "# Defining class and functions"
   ]
  },
  {
   "cell_type": "code",
   "execution_count": 2,
   "id": "3133623d",
   "metadata": {},
   "outputs": [],
   "source": [
    "class Laptop:\n",
    "    def __init__(self, x, y,ml):\n",
    "        self.x = x\n",
    "        self.y = y\n",
    "        self.x_train = None \n",
    "        self.x_test = None \n",
    "        self.y_train = None \n",
    "        self.y_test = None\n",
    "        self.ml=ml\n",
    "\n",
    "    def split(self):\n",
    "        x_train, x_test, y_train, y_test = train_test_split(self.x, self.y, train_size=0.8,random_state=80)\n",
    "        self.x_train = x_train\n",
    "        self.x_test = x_test \n",
    "        self.y_train = y_train \n",
    "        self.y_test = y_test \n",
    "        self.ml.fit(x_train, y_train)\n",
    "\n",
    "    def mscore(self):\n",
    "        print('Training Score:', self.ml.score(self.x_train, self.y_train))\n",
    "        print('Testing Score:', self.ml.score(self.x_test, self.y_test))\n",
    "\n",
    "    def met(self):\n",
    "        y_pred = self.ml.predict(self.x_test)\n",
    "        mse = mean_squared_error(y_pred, self.y_test)\n",
    "        print('Mean Squared Error:', mse)\n",
    "        rmse = np.sqrt(mse)\n",
    "        print('Root Mean Squared Error:', rmse)\n",
    "        mae = mean_absolute_error(y_pred, self.y_test)\n",
    "        print('Mean Absolute Error:', mae)\n",
    "        r2 = r2_score(y_pred, self.y_test)\n",
    "        print('R-squared:', r2)"
   ]
  },
  {
   "cell_type": "markdown",
   "id": "f7d122b2",
   "metadata": {},
   "source": [
    "# Reading the data"
   ]
  },
  {
   "cell_type": "code",
   "execution_count": 3,
   "id": "e02b40e7",
   "metadata": {},
   "outputs": [],
   "source": [
    "df=pd.read_csv(r\"C:\\Users\\aarza\\Desktop\\Dataset\\imarticus\\basant ml\\laptopPrice.csv\")"
   ]
  },
  {
   "cell_type": "code",
   "execution_count": 4,
   "id": "cbae93a5",
   "metadata": {
    "scrolled": true
   },
   "outputs": [
    {
     "data": {
      "text/html": [
       "<div>\n",
       "<style scoped>\n",
       "    .dataframe tbody tr th:only-of-type {\n",
       "        vertical-align: middle;\n",
       "    }\n",
       "\n",
       "    .dataframe tbody tr th {\n",
       "        vertical-align: top;\n",
       "    }\n",
       "\n",
       "    .dataframe thead th {\n",
       "        text-align: right;\n",
       "    }\n",
       "</style>\n",
       "<table border=\"1\" class=\"dataframe\">\n",
       "  <thead>\n",
       "    <tr style=\"text-align: right;\">\n",
       "      <th></th>\n",
       "      <th>brand</th>\n",
       "      <th>processor_brand</th>\n",
       "      <th>processor_name</th>\n",
       "      <th>processor_gnrtn</th>\n",
       "      <th>ram_gb</th>\n",
       "      <th>ram_type</th>\n",
       "      <th>ssd</th>\n",
       "      <th>hdd</th>\n",
       "      <th>os</th>\n",
       "      <th>os_bit</th>\n",
       "      <th>graphic_card_gb</th>\n",
       "      <th>weight</th>\n",
       "      <th>warranty</th>\n",
       "      <th>Touchscreen</th>\n",
       "      <th>msoffice</th>\n",
       "      <th>Price</th>\n",
       "      <th>rating</th>\n",
       "      <th>Number of Ratings</th>\n",
       "      <th>Number of Reviews</th>\n",
       "    </tr>\n",
       "  </thead>\n",
       "  <tbody>\n",
       "    <tr>\n",
       "      <th>0</th>\n",
       "      <td>ASUS</td>\n",
       "      <td>Intel</td>\n",
       "      <td>Core i3</td>\n",
       "      <td>10th</td>\n",
       "      <td>4 GB</td>\n",
       "      <td>DDR4</td>\n",
       "      <td>0 GB</td>\n",
       "      <td>1024 GB</td>\n",
       "      <td>Windows</td>\n",
       "      <td>64-bit</td>\n",
       "      <td>0 GB</td>\n",
       "      <td>Casual</td>\n",
       "      <td>No warranty</td>\n",
       "      <td>No</td>\n",
       "      <td>No</td>\n",
       "      <td>34649</td>\n",
       "      <td>2 stars</td>\n",
       "      <td>3</td>\n",
       "      <td>0</td>\n",
       "    </tr>\n",
       "    <tr>\n",
       "      <th>1</th>\n",
       "      <td>Lenovo</td>\n",
       "      <td>Intel</td>\n",
       "      <td>Core i3</td>\n",
       "      <td>10th</td>\n",
       "      <td>4 GB</td>\n",
       "      <td>DDR4</td>\n",
       "      <td>0 GB</td>\n",
       "      <td>1024 GB</td>\n",
       "      <td>Windows</td>\n",
       "      <td>64-bit</td>\n",
       "      <td>0 GB</td>\n",
       "      <td>Casual</td>\n",
       "      <td>No warranty</td>\n",
       "      <td>No</td>\n",
       "      <td>No</td>\n",
       "      <td>38999</td>\n",
       "      <td>3 stars</td>\n",
       "      <td>65</td>\n",
       "      <td>5</td>\n",
       "    </tr>\n",
       "    <tr>\n",
       "      <th>2</th>\n",
       "      <td>Lenovo</td>\n",
       "      <td>Intel</td>\n",
       "      <td>Core i3</td>\n",
       "      <td>10th</td>\n",
       "      <td>4 GB</td>\n",
       "      <td>DDR4</td>\n",
       "      <td>0 GB</td>\n",
       "      <td>1024 GB</td>\n",
       "      <td>Windows</td>\n",
       "      <td>64-bit</td>\n",
       "      <td>0 GB</td>\n",
       "      <td>Casual</td>\n",
       "      <td>No warranty</td>\n",
       "      <td>No</td>\n",
       "      <td>No</td>\n",
       "      <td>39999</td>\n",
       "      <td>3 stars</td>\n",
       "      <td>8</td>\n",
       "      <td>1</td>\n",
       "    </tr>\n",
       "    <tr>\n",
       "      <th>3</th>\n",
       "      <td>ASUS</td>\n",
       "      <td>Intel</td>\n",
       "      <td>Core i5</td>\n",
       "      <td>10th</td>\n",
       "      <td>8 GB</td>\n",
       "      <td>DDR4</td>\n",
       "      <td>512 GB</td>\n",
       "      <td>0 GB</td>\n",
       "      <td>Windows</td>\n",
       "      <td>32-bit</td>\n",
       "      <td>2 GB</td>\n",
       "      <td>Casual</td>\n",
       "      <td>No warranty</td>\n",
       "      <td>No</td>\n",
       "      <td>No</td>\n",
       "      <td>69990</td>\n",
       "      <td>3 stars</td>\n",
       "      <td>0</td>\n",
       "      <td>0</td>\n",
       "    </tr>\n",
       "    <tr>\n",
       "      <th>4</th>\n",
       "      <td>ASUS</td>\n",
       "      <td>Intel</td>\n",
       "      <td>Celeron Dual</td>\n",
       "      <td>Not Available</td>\n",
       "      <td>4 GB</td>\n",
       "      <td>DDR4</td>\n",
       "      <td>0 GB</td>\n",
       "      <td>512 GB</td>\n",
       "      <td>Windows</td>\n",
       "      <td>64-bit</td>\n",
       "      <td>0 GB</td>\n",
       "      <td>Casual</td>\n",
       "      <td>No warranty</td>\n",
       "      <td>No</td>\n",
       "      <td>No</td>\n",
       "      <td>26990</td>\n",
       "      <td>3 stars</td>\n",
       "      <td>0</td>\n",
       "      <td>0</td>\n",
       "    </tr>\n",
       "    <tr>\n",
       "      <th>...</th>\n",
       "      <td>...</td>\n",
       "      <td>...</td>\n",
       "      <td>...</td>\n",
       "      <td>...</td>\n",
       "      <td>...</td>\n",
       "      <td>...</td>\n",
       "      <td>...</td>\n",
       "      <td>...</td>\n",
       "      <td>...</td>\n",
       "      <td>...</td>\n",
       "      <td>...</td>\n",
       "      <td>...</td>\n",
       "      <td>...</td>\n",
       "      <td>...</td>\n",
       "      <td>...</td>\n",
       "      <td>...</td>\n",
       "      <td>...</td>\n",
       "      <td>...</td>\n",
       "      <td>...</td>\n",
       "    </tr>\n",
       "    <tr>\n",
       "      <th>818</th>\n",
       "      <td>ASUS</td>\n",
       "      <td>AMD</td>\n",
       "      <td>Ryzen 9</td>\n",
       "      <td>Not Available</td>\n",
       "      <td>4 GB</td>\n",
       "      <td>DDR4</td>\n",
       "      <td>1024 GB</td>\n",
       "      <td>0 GB</td>\n",
       "      <td>Windows</td>\n",
       "      <td>64-bit</td>\n",
       "      <td>0 GB</td>\n",
       "      <td>Casual</td>\n",
       "      <td>1 year</td>\n",
       "      <td>No</td>\n",
       "      <td>No</td>\n",
       "      <td>135990</td>\n",
       "      <td>3 stars</td>\n",
       "      <td>0</td>\n",
       "      <td>0</td>\n",
       "    </tr>\n",
       "    <tr>\n",
       "      <th>819</th>\n",
       "      <td>ASUS</td>\n",
       "      <td>AMD</td>\n",
       "      <td>Ryzen 9</td>\n",
       "      <td>Not Available</td>\n",
       "      <td>4 GB</td>\n",
       "      <td>DDR4</td>\n",
       "      <td>1024 GB</td>\n",
       "      <td>0 GB</td>\n",
       "      <td>Windows</td>\n",
       "      <td>64-bit</td>\n",
       "      <td>0 GB</td>\n",
       "      <td>Casual</td>\n",
       "      <td>1 year</td>\n",
       "      <td>No</td>\n",
       "      <td>No</td>\n",
       "      <td>144990</td>\n",
       "      <td>3 stars</td>\n",
       "      <td>0</td>\n",
       "      <td>0</td>\n",
       "    </tr>\n",
       "    <tr>\n",
       "      <th>820</th>\n",
       "      <td>ASUS</td>\n",
       "      <td>AMD</td>\n",
       "      <td>Ryzen 9</td>\n",
       "      <td>Not Available</td>\n",
       "      <td>4 GB</td>\n",
       "      <td>DDR4</td>\n",
       "      <td>1024 GB</td>\n",
       "      <td>0 GB</td>\n",
       "      <td>Windows</td>\n",
       "      <td>64-bit</td>\n",
       "      <td>4 GB</td>\n",
       "      <td>Casual</td>\n",
       "      <td>1 year</td>\n",
       "      <td>No</td>\n",
       "      <td>No</td>\n",
       "      <td>149990</td>\n",
       "      <td>3 stars</td>\n",
       "      <td>0</td>\n",
       "      <td>0</td>\n",
       "    </tr>\n",
       "    <tr>\n",
       "      <th>821</th>\n",
       "      <td>ASUS</td>\n",
       "      <td>AMD</td>\n",
       "      <td>Ryzen 9</td>\n",
       "      <td>Not Available</td>\n",
       "      <td>4 GB</td>\n",
       "      <td>DDR4</td>\n",
       "      <td>1024 GB</td>\n",
       "      <td>0 GB</td>\n",
       "      <td>Windows</td>\n",
       "      <td>64-bit</td>\n",
       "      <td>4 GB</td>\n",
       "      <td>Casual</td>\n",
       "      <td>1 year</td>\n",
       "      <td>No</td>\n",
       "      <td>No</td>\n",
       "      <td>142990</td>\n",
       "      <td>3 stars</td>\n",
       "      <td>0</td>\n",
       "      <td>0</td>\n",
       "    </tr>\n",
       "    <tr>\n",
       "      <th>822</th>\n",
       "      <td>Lenovo</td>\n",
       "      <td>AMD</td>\n",
       "      <td>Ryzen 5</td>\n",
       "      <td>10th</td>\n",
       "      <td>8 GB</td>\n",
       "      <td>DDR4</td>\n",
       "      <td>512 GB</td>\n",
       "      <td>0 GB</td>\n",
       "      <td>DOS</td>\n",
       "      <td>64-bit</td>\n",
       "      <td>0 GB</td>\n",
       "      <td>ThinNlight</td>\n",
       "      <td>No warranty</td>\n",
       "      <td>No</td>\n",
       "      <td>No</td>\n",
       "      <td>57490</td>\n",
       "      <td>4 stars</td>\n",
       "      <td>18</td>\n",
       "      <td>4</td>\n",
       "    </tr>\n",
       "  </tbody>\n",
       "</table>\n",
       "<p>823 rows × 19 columns</p>\n",
       "</div>"
      ],
      "text/plain": [
       "      brand processor_brand processor_name processor_gnrtn ram_gb ram_type  \\\n",
       "0      ASUS           Intel        Core i3            10th   4 GB     DDR4   \n",
       "1    Lenovo           Intel        Core i3            10th   4 GB     DDR4   \n",
       "2    Lenovo           Intel        Core i3            10th   4 GB     DDR4   \n",
       "3      ASUS           Intel        Core i5            10th   8 GB     DDR4   \n",
       "4      ASUS           Intel   Celeron Dual   Not Available   4 GB     DDR4   \n",
       "..      ...             ...            ...             ...    ...      ...   \n",
       "818    ASUS             AMD        Ryzen 9   Not Available   4 GB     DDR4   \n",
       "819    ASUS             AMD        Ryzen 9   Not Available   4 GB     DDR4   \n",
       "820    ASUS             AMD        Ryzen 9   Not Available   4 GB     DDR4   \n",
       "821    ASUS             AMD        Ryzen 9   Not Available   4 GB     DDR4   \n",
       "822  Lenovo             AMD        Ryzen 5            10th   8 GB     DDR4   \n",
       "\n",
       "         ssd      hdd       os  os_bit graphic_card_gb      weight  \\\n",
       "0       0 GB  1024 GB  Windows  64-bit            0 GB      Casual   \n",
       "1       0 GB  1024 GB  Windows  64-bit            0 GB      Casual   \n",
       "2       0 GB  1024 GB  Windows  64-bit            0 GB      Casual   \n",
       "3     512 GB     0 GB  Windows  32-bit            2 GB      Casual   \n",
       "4       0 GB   512 GB  Windows  64-bit            0 GB      Casual   \n",
       "..       ...      ...      ...     ...             ...         ...   \n",
       "818  1024 GB     0 GB  Windows  64-bit            0 GB      Casual   \n",
       "819  1024 GB     0 GB  Windows  64-bit            0 GB      Casual   \n",
       "820  1024 GB     0 GB  Windows  64-bit            4 GB      Casual   \n",
       "821  1024 GB     0 GB  Windows  64-bit            4 GB      Casual   \n",
       "822   512 GB     0 GB      DOS  64-bit            0 GB  ThinNlight   \n",
       "\n",
       "        warranty Touchscreen msoffice   Price   rating  Number of Ratings  \\\n",
       "0    No warranty          No       No   34649  2 stars                  3   \n",
       "1    No warranty          No       No   38999  3 stars                 65   \n",
       "2    No warranty          No       No   39999  3 stars                  8   \n",
       "3    No warranty          No       No   69990  3 stars                  0   \n",
       "4    No warranty          No       No   26990  3 stars                  0   \n",
       "..           ...         ...      ...     ...      ...                ...   \n",
       "818       1 year          No       No  135990  3 stars                  0   \n",
       "819       1 year          No       No  144990  3 stars                  0   \n",
       "820       1 year          No       No  149990  3 stars                  0   \n",
       "821       1 year          No       No  142990  3 stars                  0   \n",
       "822  No warranty          No       No   57490  4 stars                 18   \n",
       "\n",
       "     Number of Reviews  \n",
       "0                    0  \n",
       "1                    5  \n",
       "2                    1  \n",
       "3                    0  \n",
       "4                    0  \n",
       "..                 ...  \n",
       "818                  0  \n",
       "819                  0  \n",
       "820                  0  \n",
       "821                  0  \n",
       "822                  4  \n",
       "\n",
       "[823 rows x 19 columns]"
      ]
     },
     "execution_count": 4,
     "metadata": {},
     "output_type": "execute_result"
    }
   ],
   "source": [
    "df #DATA"
   ]
  },
  {
   "cell_type": "code",
   "execution_count": 5,
   "id": "7127efc5",
   "metadata": {
    "scrolled": true
   },
   "outputs": [
    {
     "data": {
      "text/plain": [
       "brand                0\n",
       "processor_brand      0\n",
       "processor_name       0\n",
       "processor_gnrtn      0\n",
       "ram_gb               0\n",
       "ram_type             0\n",
       "ssd                  0\n",
       "hdd                  0\n",
       "os                   0\n",
       "os_bit               0\n",
       "graphic_card_gb      0\n",
       "weight               0\n",
       "warranty             0\n",
       "Touchscreen          0\n",
       "msoffice             0\n",
       "Price                0\n",
       "rating               0\n",
       "Number of Ratings    0\n",
       "Number of Reviews    0\n",
       "dtype: int64"
      ]
     },
     "execution_count": 5,
     "metadata": {},
     "output_type": "execute_result"
    }
   ],
   "source": [
    "df.isnull().sum() # checking null values"
   ]
  },
  {
   "cell_type": "code",
   "execution_count": 6,
   "id": "d0d8a912",
   "metadata": {},
   "outputs": [
    {
     "name": "stdout",
     "output_type": "stream",
     "text": [
      "brand: ['ASUS' 'Lenovo' 'acer' 'Avita' 'HP' 'DELL' 'MSI' 'APPLE']\n",
      "\n",
      "processor_brand: ['Intel' 'AMD' 'M1']\n",
      "\n",
      "processor_name: ['Core i3' 'Core i5' 'Celeron Dual' 'Ryzen 5' 'Core i7' 'Core i9' 'M1'\n",
      " 'Pentium Quad' 'Ryzen 3' 'Ryzen 7' 'Ryzen 9']\n",
      "\n",
      "processor_gnrtn: ['10th' 'Not Available' '11th' '7th' '8th' '9th' '4th' '12th']\n",
      "\n",
      "ram_gb: ['4 GB' '8 GB' '16 GB' '32 GB']\n",
      "\n",
      "ram_type: ['DDR4' 'LPDDR4' 'LPDDR4X' 'DDR5' 'DDR3' 'LPDDR3']\n",
      "\n",
      "ssd: ['0 GB' '512 GB' '256 GB' '128 GB' '1024 GB' '2048 GB' '3072 GB']\n",
      "\n",
      "hdd: ['1024 GB' '0 GB' '512 GB' '2048 GB']\n",
      "\n",
      "os: ['Windows' 'DOS' 'Mac']\n",
      "\n",
      "os_bit: ['64-bit' '32-bit']\n",
      "\n",
      "graphic_card_gb: ['0 GB' '2 GB' '4 GB' '6 GB' '8 GB']\n",
      "\n",
      "weight: ['Casual' 'ThinNlight' 'Gaming']\n",
      "\n",
      "warranty: ['No warranty' '1 year' '2 years' '3 years']\n",
      "\n",
      "Touchscreen: ['No' 'Yes']\n",
      "\n",
      "msoffice: ['No' 'Yes']\n",
      "\n",
      "Price: [ 34649  38999  39999  69990  26990  22990  21990  58799  49999  59990\n",
      "  93700  72990  17490  35990  56490  65390  31999  32490  31799  29890\n",
      "  23990  32955  46200  34429  37990  33980  39990  39490  53990  38990\n",
      "  37890  41990  45990  42490  36990  38940  42990  49990  41490  38490\n",
      "  44990  36490  38970  44900  44427  40200  40990  71999  41998  39998\n",
      "  48490  44376  43900  46690  43990  48500  48990  23490  54238  51990\n",
      "  43970  54990  41250  60790  45650  45490  38799  69267  51649  47990\n",
      "  44890  50990  48900  41790  57999  45930  55490  32890  42190  43690\n",
      "  43800  34990  38900  40890  39790  35590  33990  43400  24990  40750\n",
      "  43000  38000  49279  41500  36999  42900  21490  41480  32990  38680\n",
      "  40390  20490  44490  41890  43590  44690  41390  44290  48999  46390\n",
      "  18990  17990  26470  27990  29999  25990  16990 119990  94190 106167\n",
      "  68090 139990  55990 102551  46990  76012  49490  86867  81998 136590\n",
      "  59490  49800  61999  52990  67990  57990  62300  61990  63990  65990\n",
      "  71990  76990  89990  71890  64990  55999  73490  74490  58340  82990\n",
      "  64190  70090  97990  66999  60990  59999  79990  69490  89390  74990\n",
      "  66490  89702  70990  58990  57500  56541  61290  84990  72500  87990\n",
      "  68990  77990 105990 111890  71090  53400  74500 114990 159990 172090\n",
      " 147000 106490 111999  70798  99500  62998  88990 113590  73990  61000\n",
      "  99990  70799  53690  53190  58999  82000  89998  69899  76300  72900\n",
      "  73519 126000 114999 109999 129999 149990  71290  79500  70980  94000\n",
      "  85990  86990  91999  78900 132790  65556  70190  79590  86999  78000\n",
      "  73063 100990  75990  84086 179990  84500  74190 155411 125394  52490\n",
      "  56990  58090  61597  81990  61249  83990 291190 145990  46790  44599\n",
      "  72964  48790  56491  62490  60190  54490  55790  69900  74590  77900\n",
      "  67490  74999  68900  71695  62317 207290  93190  94990 102990 104000\n",
      "  90190  88488 109990 239759  78990 121890  92000 162990 135300 174527\n",
      " 162299 109190  99999 104990 244801  86000 162399 119599 211753 110999\n",
      "  66990 134990  98990 144690 194990 124990 122410 154990 122990 224990\n",
      " 279990 121990 116990 151098 129990 149999 171990  93955 234990 128500\n",
      " 120980 157249 229900 131500 165990 167990 165000  62990 136990 233990\n",
      "  93990 116941  82500  98912  92990 169990 192990 299990 269990 265998\n",
      " 441990 109590 146490 112990 132990 125990 103990 101990 131990 128990\n",
      " 184990 225990 243990 309990  58100  30990  36000  30780  33690  40590\n",
      "  34500  43490  42090  37390  52632  32917  41999  44390  49970  47490\n",
      "  67500  62450  98020  49890  73999  76190  74798  68100  55090  91990\n",
      "  84208  53490  76498  98920  52380  52500  75999  80990  59900  54590\n",
      "  75500  51890  57900  81978  68500  80000  75100 106990  81490  84988\n",
      "  90990  72400 111990 109000  78988  73138  89570  73400  84190  95990\n",
      " 130990  77988  76000 111000  84970  80490 135990 199990 146990 141990\n",
      " 142990 130500 138990 144990  57490]\n",
      "\n",
      "rating: ['2 stars' '3 stars' '4 stars' '5 stars' '1 star']\n",
      "\n",
      "Number of Ratings: [    3    65     8     0    31  1946   259   425  1120   286    58     7\n",
      " 15279   311    47    37  2080  1479    67   273  1267    14   284    44\n",
      "    33    10   816   543     9  1178   299    20   758   634     4    17\n",
      "    24  1753   216  1084    19   106    42  1029    53    48    61    97\n",
      "   181   529  5205  1090     1    70   632    71   990   158   681   130\n",
      "    30     6   174    40    13   184  1296   571  2551    35   118   245\n",
      "  2058   117    74    39    29    43   984   523  1605  4008  1869  1278\n",
      "   143    28  2124   276   250  1917  4999  4203    15   527   103   324\n",
      "    69    16    12  1146  1850   231   502  1096   313   265    38   818\n",
      "    25   974    83   637   207   844    62   724    56   170    95   197\n",
      "  1180   232   596    84   414 10966  1881    23  4428   129   365   116\n",
      "   206   300   108  3712   825    85   155    91   126    75   124  1597\n",
      "  3850     5   213    93    11   262    45  1681  1625   282   677    46\n",
      "    26  1541    72    59   337    76   138   199    32   814   125   714\n",
      "    21   739   145  1124    98   474   195     2    22   512  1365   368\n",
      "   202   187   253   470  1444  1114    78    73   715  3062   122    18\n",
      "  1188    27   157    52   343   131    41   328   353   127   241   898\n",
      "   179   114   268   153   377   120   484    77  1639   498   445    54\n",
      "   794  2038   214   342   218  6725   640   399   809   465   102  4741\n",
      "  2736  2214  2886    34   137   163   267  7291   409  3524   939   649\n",
      "  4740   162   219   193   562    92   469  1978  1049   196   172    86\n",
      "   104    90   183   358    88   364   826  1410   741   349   519  1480\n",
      "   271    49   861   165   698   144  1810  1067   530   105   191   134\n",
      "   198    57   272   141   194   204]\n",
      "\n",
      "Number of Reviews: [   0    5    1    3  240   47   67  196   19    6 1947   27    7  235\n",
      "  181   30  171   39    4   36  147   65  137   41   64    2  165   21\n",
      "  160   13  107   11  561   96    9   92    8  108   18   59   12   29\n",
      "  126   56  297   17   34  305   99   66  215  519  234  135   15  233\n",
      "   40  189  490   46   10   45  175  216   26   93  116   35  113  170\n",
      "   91   16  103   25  148   23   54 1185  241  109  569   24  412   95\n",
      "   20  228  378   31  227  152   87  123   14  112   71  100   37   85\n",
      "   48  118   28  179  106  325  127   51  128   53  230   49   83  313\n",
      "  629   70   89  658  350  375   33   42  895   58  432   84  532   80\n",
      "  188  134   52  203   69  151   74  145   22]\n",
      "\n"
     ]
    }
   ],
   "source": [
    "for i in df.columns:\n",
    "    print(f'{i}: {df[i].unique()}\\n') #checking uniques of all columns"
   ]
  },
  {
   "cell_type": "code",
   "execution_count": 7,
   "id": "4c568c16",
   "metadata": {
    "scrolled": true
   },
   "outputs": [
    {
     "name": "stdout",
     "output_type": "stream",
     "text": [
      "<class 'pandas.core.frame.DataFrame'>\n",
      "RangeIndex: 823 entries, 0 to 822\n",
      "Data columns (total 19 columns):\n",
      " #   Column             Non-Null Count  Dtype \n",
      "---  ------             --------------  ----- \n",
      " 0   brand              823 non-null    object\n",
      " 1   processor_brand    823 non-null    object\n",
      " 2   processor_name     823 non-null    object\n",
      " 3   processor_gnrtn    823 non-null    object\n",
      " 4   ram_gb             823 non-null    object\n",
      " 5   ram_type           823 non-null    object\n",
      " 6   ssd                823 non-null    object\n",
      " 7   hdd                823 non-null    object\n",
      " 8   os                 823 non-null    object\n",
      " 9   os_bit             823 non-null    object\n",
      " 10  graphic_card_gb    823 non-null    object\n",
      " 11  weight             823 non-null    object\n",
      " 12  warranty           823 non-null    object\n",
      " 13  Touchscreen        823 non-null    object\n",
      " 14  msoffice           823 non-null    object\n",
      " 15  Price              823 non-null    int64 \n",
      " 16  rating             823 non-null    object\n",
      " 17  Number of Ratings  823 non-null    int64 \n",
      " 18  Number of Reviews  823 non-null    int64 \n",
      "dtypes: int64(3), object(16)\n",
      "memory usage: 122.3+ KB\n"
     ]
    }
   ],
   "source": [
    "df.info() #trying to get information of data"
   ]
  },
  {
   "cell_type": "markdown",
   "id": "ad7ae4bb",
   "metadata": {},
   "source": [
    "# Splitting independent and target variable"
   ]
  },
  {
   "cell_type": "code",
   "execution_count": 8,
   "id": "e8b9ebf4",
   "metadata": {},
   "outputs": [],
   "source": [
    "x=df.drop('Price',axis=1)"
   ]
  },
  {
   "cell_type": "code",
   "execution_count": 9,
   "id": "47e62bc7",
   "metadata": {},
   "outputs": [],
   "source": [
    "y=df['Price'] #price is our target variable"
   ]
  },
  {
   "cell_type": "code",
   "execution_count": 10,
   "id": "f68483c5",
   "metadata": {},
   "outputs": [],
   "source": [
    "x=pd.get_dummies(x,drop_first=True)#converting categorical value into dummies"
   ]
  },
  {
   "cell_type": "code",
   "execution_count": 11,
   "id": "6c299207",
   "metadata": {},
   "outputs": [
    {
     "data": {
      "text/plain": [
       "(823, 63)"
      ]
     },
     "execution_count": 11,
     "metadata": {},
     "output_type": "execute_result"
    }
   ],
   "source": [
    "x.shape"
   ]
  },
  {
   "cell_type": "markdown",
   "id": "13dbee3b",
   "metadata": {},
   "source": [
    "# Linear Regression"
   ]
  },
  {
   "cell_type": "code",
   "execution_count": 12,
   "id": "695dd4a8",
   "metadata": {},
   "outputs": [],
   "source": [
    "# Create an instance of the Laptop class\n",
    "linear = Laptop(x,y,LinearRegression())  # Replace x and y with your actual data and model"
   ]
  },
  {
   "cell_type": "code",
   "execution_count": 13,
   "id": "b9fa1ab6",
   "metadata": {},
   "outputs": [],
   "source": [
    "# Call the split method\n",
    "linear.split() "
   ]
  },
  {
   "cell_type": "code",
   "execution_count": 14,
   "id": "f8abe527",
   "metadata": {
    "scrolled": false
   },
   "outputs": [
    {
     "name": "stdout",
     "output_type": "stream",
     "text": [
      "Training Score: 0.824427438210721\n",
      "Testing Score: 0.8007994018273087\n"
     ]
    }
   ],
   "source": [
    "# Call the mscore method\n",
    "linear.mscore()  \n"
   ]
  },
  {
   "cell_type": "code",
   "execution_count": 15,
   "id": "a57626ca",
   "metadata": {},
   "outputs": [
    {
     "name": "stdout",
     "output_type": "stream",
     "text": [
      "Mean Squared Error: 416681355.48577476\n",
      "Root Mean Squared Error: 20412.774321139565\n",
      "Mean Absolute Error: 13499.828371722386\n",
      "R-squared: 0.763693830892578\n"
     ]
    }
   ],
   "source": [
    "# Call the met method\n",
    "linear.met() "
   ]
  },
  {
   "cell_type": "markdown",
   "id": "d3f0a3ce",
   "metadata": {},
   "source": [
    "As the report indicate a high error rate , so standardization will be used to reduce it"
   ]
  },
  {
   "cell_type": "markdown",
   "id": "3a8c8699",
   "metadata": {},
   "source": [
    "# Scaling Price column Using Min Max scaler"
   ]
  },
  {
   "cell_type": "code",
   "execution_count": 16,
   "id": "cf0e9aed",
   "metadata": {
    "scrolled": true
   },
   "outputs": [
    {
     "data": {
      "text/plain": [
       "0      0.041551\n",
       "1      0.051786\n",
       "2      0.054139\n",
       "3      0.124706\n",
       "4      0.023529\n",
       "         ...   \n",
       "818    0.280000\n",
       "819    0.301176\n",
       "820    0.312941\n",
       "821    0.296471\n",
       "822    0.095294\n",
       "Name: Price, Length: 823, dtype: float64"
      ]
     },
     "execution_count": 16,
     "metadata": {},
     "output_type": "execute_result"
    }
   ],
   "source": [
    "y_minmax= (y - y.min()) / (y.max() - y.min())\n",
    "y_minmax"
   ]
  },
  {
   "cell_type": "markdown",
   "id": "6a9e08bd",
   "metadata": {},
   "source": [
    "# Linear Regression "
   ]
  },
  {
   "cell_type": "code",
   "execution_count": 17,
   "id": "d0b95653",
   "metadata": {},
   "outputs": [
    {
     "name": "stdout",
     "output_type": "stream",
     "text": [
      "Training Score: 0.824427438210721\n",
      "Testing Score: 0.8007994018273089\n",
      "Mean Squared Error: 0.002306886397153076\n",
      "Root Mean Squared Error: 0.04803005722621071\n",
      "Mean Absolute Error: 0.031764302051111484\n",
      "R-squared: 0.7636938308925783\n"
     ]
    }
   ],
   "source": [
    "# Create an instance of the Laptop class\n",
    "linear_minmax= Laptop(x,y_minmax,LinearRegression())  \n",
    "\n",
    "# Call the split method\n",
    "linear_minmax.split()  \n",
    "\n",
    "# Call the mscore method\n",
    "linear_minmax.mscore()\n",
    "\n",
    "# Call the met method\n",
    "linear_minmax.met() \n"
   ]
  },
  {
   "cell_type": "markdown",
   "id": "8cdb0b31",
   "metadata": {},
   "source": [
    "As the report indicate a lower error rate but accuracy score is lower in testing data set as compare to training data set which indicate *OVERFITTING*"
   ]
  },
  {
   "cell_type": "markdown",
   "id": "ccc73fd8",
   "metadata": {},
   "source": [
    "# Ridge Regression"
   ]
  },
  {
   "cell_type": "code",
   "execution_count": 18,
   "id": "06f1bf15",
   "metadata": {
    "scrolled": true
   },
   "outputs": [
    {
     "name": "stdout",
     "output_type": "stream",
     "text": [
      "Training Score: 0.8009620361387227\n",
      "Testing Score: 0.7994156492080756\n",
      "Mean Squared Error: 0.002322911249104408\n",
      "Root Mean Squared Error: 0.048196589600348366\n",
      "Mean Absolute Error: 0.03200401494687756\n",
      "R-squared: 0.7512527134689834\n"
     ]
    }
   ],
   "source": [
    "# Applying alpha = 1 and running the algorithms for maximum of 500 iterations\n",
    "ridge_minmax= Laptop(x,y_minmax,Ridge(alpha = 1, max_iter = 500)) \n",
    "\n",
    "# Call the split method\n",
    "ridge_minmax.split() \n",
    "\n",
    "# Call the mscore method\n",
    "ridge_minmax.mscore()  \n",
    "\n",
    "# Call the met method\n",
    "ridge_minmax.met() "
   ]
  },
  {
   "cell_type": "markdown",
   "id": "214df2b3",
   "metadata": {},
   "source": [
    "# Lasso Regression"
   ]
  },
  {
   "cell_type": "code",
   "execution_count": 19,
   "id": "e4937c38",
   "metadata": {
    "scrolled": true
   },
   "outputs": [
    {
     "name": "stdout",
     "output_type": "stream",
     "text": [
      "Training Score: 0.2295925086821582\n",
      "Testing Score: 0.3151455670951674\n",
      "Mean Squared Error: 0.007931107585974768\n",
      "Root Mean Squared Error: 0.0890567660875622\n",
      "Mean Absolute Error: 0.06188732267636368\n",
      "R-squared: -3.9894147872995855\n"
     ]
    }
   ],
   "source": [
    "# Applying alpha = 1 and running the algorithms for maximum of 500 iterations\n",
    "lasso_minmax= Laptop(x,y_minmax,Lasso(alpha = 0.01, max_iter = 500))  \n",
    "\n",
    "# Call the split method\n",
    "lasso_minmax.split()  \n",
    "\n",
    "# Call the mscore method\n",
    "lasso_minmax.mscore()  \n",
    "\n",
    "# Call the met method\n",
    "lasso_minmax.met()"
   ]
  },
  {
   "cell_type": "markdown",
   "id": "34e3415a",
   "metadata": {},
   "source": [
    "# Elastic Net"
   ]
  },
  {
   "cell_type": "code",
   "execution_count": 20,
   "id": "371f4b3e",
   "metadata": {
    "scrolled": true
   },
   "outputs": [
    {
     "name": "stdout",
     "output_type": "stream",
     "text": [
      "Training Score: 0.06646580542260139\n",
      "Testing Score: 0.07467480415730643\n",
      "Mean Squared Error: 0.010715932215133055\n",
      "Root Mean Squared Error: 0.10351778695051907\n",
      "Mean Absolute Error: 0.07352420531616694\n",
      "R-squared: -10.178282587570997\n"
     ]
    }
   ],
   "source": [
    "# apply both lasso and ridge regression\n",
    "enet_minmax= Laptop(x,y_minmax,ElasticNet(alpha = 1.01, l1_ratio = 0.0099, max_iter = 500))  \n",
    "# Call the split method\n",
    "enet_minmax.split()  \n",
    "\n",
    "# Call the mscore method\n",
    "enet_minmax.mscore() \n",
    "\n",
    "# Call the met method\n",
    "enet_minmax.met()  "
   ]
  },
  {
   "cell_type": "markdown",
   "id": "03a7f84f",
   "metadata": {},
   "source": [
    "# Scaling Price column Using Robust Scaler"
   ]
  },
  {
   "cell_type": "code",
   "execution_count": 21,
   "id": "f9755d47",
   "metadata": {
    "scrolled": true
   },
   "outputs": [
    {
     "data": {
      "text/plain": [
       "0     -0.262879\n",
       "1     -0.162973\n",
       "2     -0.140006\n",
       "3      0.548793\n",
       "4     -0.438782\n",
       "         ...   \n",
       "818    2.064606\n",
       "819    2.271308\n",
       "820    2.386142\n",
       "821    2.225374\n",
       "822    0.261707\n",
       "Name: Price, Length: 823, dtype: float64"
      ]
     },
     "execution_count": 21,
     "metadata": {},
     "output_type": "execute_result"
    }
   ],
   "source": [
    "y_robust = (y - y.quantile(0.25)) / (y.quantile(0.75) - y.quantile(0.25))\n",
    "y_robust"
   ]
  },
  {
   "cell_type": "markdown",
   "id": "c9dd890e",
   "metadata": {},
   "source": [
    "# Linear Regession"
   ]
  },
  {
   "cell_type": "code",
   "execution_count": 22,
   "id": "2c87fcf6",
   "metadata": {},
   "outputs": [
    {
     "name": "stdout",
     "output_type": "stream",
     "text": [
      "Training Score: 0.824427438210721\n",
      "Testing Score: 0.8007994018273088\n",
      "Mean Squared Error: 0.21978966641787961\n",
      "Root Mean Squared Error: 0.46881730601363214\n",
      "Mean Absolute Error: 0.310048652344282\n",
      "R-squared: 0.763693830892578\n"
     ]
    }
   ],
   "source": [
    "# Create an instance of the Laptop class\n",
    "linear_robust= Laptop(x,y_robust,LinearRegression())  \n",
    "\n",
    "# Call the split method\n",
    "linear_robust.split() \n",
    "\n",
    "# Call the mscore method\n",
    "linear_robust.mscore()  \n",
    "\n",
    "# Call the met method\n",
    "linear_robust.met() \n"
   ]
  },
  {
   "cell_type": "markdown",
   "id": "c574fbfe",
   "metadata": {},
   "source": [
    "# Ridge Regession"
   ]
  },
  {
   "cell_type": "code",
   "execution_count": 23,
   "id": "4fe8737e",
   "metadata": {
    "scrolled": true
   },
   "outputs": [
    {
     "name": "stdout",
     "output_type": "stream",
     "text": [
      "Training Score: 0.8009620361387229\n",
      "Testing Score: 0.7994156492080756\n",
      "Mean Squared Error: 0.2213164415851031\n",
      "Root Mean Squared Error: 0.47044281436228047\n",
      "Mean Absolute Error: 0.3123884695441758\n",
      "R-squared: 0.7512527134689833\n"
     ]
    }
   ],
   "source": [
    "# Applying alpha = 1 and running the algorithms for maximum of 500 iterations\n",
    "ridge_robust= Laptop(x,y_robust,Ridge(alpha = 1, max_iter = 500)) \n",
    "\n",
    "# Call the split method\n",
    "ridge_robust.split() \n",
    "\n",
    "# Call the mscore method\n",
    "ridge_robust.mscore() \n",
    "\n",
    "# Call the met method\n",
    "ridge_robust.met() "
   ]
  },
  {
   "cell_type": "markdown",
   "id": "74da674f",
   "metadata": {},
   "source": [
    "# Lasso Regession"
   ]
  },
  {
   "cell_type": "code",
   "execution_count": 24,
   "id": "e6dff43d",
   "metadata": {
    "scrolled": true
   },
   "outputs": [
    {
     "name": "stdout",
     "output_type": "stream",
     "text": [
      "Training Score: 0.7002059590349374\n",
      "Testing Score: 0.728932960585603\n",
      "Mean Squared Error: 0.2990841127802406\n",
      "Root Mean Squared Error: 0.5468858315775246\n",
      "Mean Absolute Error: 0.356314451772546\n",
      "R-squared: 0.5432334823165509\n"
     ]
    }
   ],
   "source": [
    "# Applying alpha = 1 and running the algorithms for maximum of 500 iterations\n",
    "lasso_robust= Laptop(x,y_robust,Lasso(alpha = 0.01, max_iter = 500)) \n",
    "\n",
    "# Call the split method\n",
    "lasso_robust.split()  \n",
    "\n",
    "# Call the mscore method\n",
    "lasso_robust.mscore() \n",
    "\n",
    "# Call the met method\n",
    "lasso_robust.met()"
   ]
  },
  {
   "cell_type": "markdown",
   "id": "2d116c46",
   "metadata": {},
   "source": [
    "# Elastic Net"
   ]
  },
  {
   "cell_type": "code",
   "execution_count": 25,
   "id": "b76e6e47",
   "metadata": {},
   "outputs": [
    {
     "name": "stdout",
     "output_type": "stream",
     "text": [
      "Training Score: 0.2349560464792153\n",
      "Testing Score: 0.2449418424216896\n",
      "Mean Squared Error: 0.8330998104552209\n",
      "Root Mean Squared Error: 0.9127430144653099\n",
      "Mean Absolute Error: 0.6252133123650774\n",
      "R-squared: -5.894892282587283\n"
     ]
    }
   ],
   "source": [
    "# apply both lasso and ridge regression\n",
    "enet_robust= Laptop(x,y_robust,ElasticNet(alpha = 1.01, l1_ratio = 0.0099, max_iter = 500))  \n",
    "\n",
    "# Call the split method\n",
    "enet_robust.split() \n",
    "\n",
    "# Call the mscore method\n",
    "enet_robust.mscore()  \n",
    "\n",
    "# Call the met method\n",
    "enet_robust.met()  "
   ]
  },
  {
   "cell_type": "markdown",
   "id": "1854f4e4",
   "metadata": {},
   "source": [
    "`Hence, Linear Regression  with  RobustScaler  help  to  get  better  accuracy  than  other  Algorithms "
   ]
  },
  {
   "cell_type": "markdown",
   "id": "2e990af8",
   "metadata": {},
   "source": [
    "# Decision tree"
   ]
  },
  {
   "cell_type": "code",
   "execution_count": 26,
   "id": "78c92abc",
   "metadata": {},
   "outputs": [],
   "source": [
    "from sklearn.tree import DecisionTreeRegressor"
   ]
  },
  {
   "cell_type": "code",
   "execution_count": 27,
   "id": "da48f02a",
   "metadata": {},
   "outputs": [],
   "source": [
    "dt=Laptop(x,y_robust,DecisionTreeRegressor())"
   ]
  },
  {
   "cell_type": "code",
   "execution_count": 28,
   "id": "c2b91108",
   "metadata": {},
   "outputs": [
    {
     "name": "stdout",
     "output_type": "stream",
     "text": [
      "Training Score: 0.9974406059800198\n",
      "Testing Score: 0.6990595040975631\n",
      "Mean Squared Error: 0.3320452439037688\n",
      "Root Mean Squared Error: 0.5762336712686693\n",
      "Mean Absolute Error: 0.3303186431272603\n",
      "R-squared: 0.6447185359304509\n"
     ]
    }
   ],
   "source": [
    "# Call the split method\n",
    "dt.split() \n",
    "\n",
    "# Call the mscore method\n",
    "dt.mscore()  \n",
    "\n",
    "# Call the met method\n",
    "dt.met()  "
   ]
  },
  {
   "cell_type": "markdown",
   "id": "6ecf49ba",
   "metadata": {},
   "source": [
    "# Random forest"
   ]
  },
  {
   "cell_type": "code",
   "execution_count": 29,
   "id": "54e7b505",
   "metadata": {},
   "outputs": [],
   "source": [
    "from sklearn.ensemble import RandomForestRegressor"
   ]
  },
  {
   "cell_type": "code",
   "execution_count": 30,
   "id": "ce6ec3a2",
   "metadata": {},
   "outputs": [],
   "source": [
    "rf=Laptop(x,y_robust,RandomForestRegressor())"
   ]
  },
  {
   "cell_type": "code",
   "execution_count": 31,
   "id": "7f229921",
   "metadata": {},
   "outputs": [
    {
     "name": "stdout",
     "output_type": "stream",
     "text": [
      "Training Score: 0.9417980687566152\n",
      "Testing Score: 0.8195306145575977\n",
      "Mean Squared Error: 0.19912242427424168\n",
      "Root Mean Squared Error: 0.4462313573408324\n",
      "Mean Absolute Error: 0.271048088883931\n",
      "R-squared: 0.7531355631891127\n"
     ]
    }
   ],
   "source": [
    "# Call the split method\n",
    "rf.split() \n",
    "\n",
    "# Call the mscore method\n",
    "rf.mscore()  \n",
    "\n",
    "# Call the met method\n",
    "rf.met()  "
   ]
  },
  {
   "cell_type": "markdown",
   "id": "5b6c6f74",
   "metadata": {},
   "source": [
    "# Boosting"
   ]
  },
  {
   "cell_type": "markdown",
   "id": "91289234",
   "metadata": {},
   "source": [
    "### AdaBoost"
   ]
  },
  {
   "cell_type": "code",
   "execution_count": 32,
   "id": "96d309bc",
   "metadata": {},
   "outputs": [],
   "source": [
    "from sklearn.ensemble import AdaBoostRegressor"
   ]
  },
  {
   "cell_type": "code",
   "execution_count": 33,
   "id": "2620bf8c",
   "metadata": {},
   "outputs": [],
   "source": [
    "ab=Laptop(x,y_robust,AdaBoostRegressor())"
   ]
  },
  {
   "cell_type": "code",
   "execution_count": 34,
   "id": "51ca6574",
   "metadata": {},
   "outputs": [
    {
     "name": "stdout",
     "output_type": "stream",
     "text": [
      "Training Score: 0.5214552949689193\n",
      "Testing Score: 0.5000489767033454\n",
      "Mean Squared Error: 0.5516251941190883\n",
      "Root Mean Squared Error: 0.7427147461300928\n",
      "Mean Absolute Error: 0.6244158786007906\n",
      "R-squared: -0.12059780538877596\n"
     ]
    }
   ],
   "source": [
    "# Call the split method\n",
    "ab.split() \n",
    "\n",
    "# Call the mscore method\n",
    "ab.mscore()  \n",
    "\n",
    "# Call the met method\n",
    "ab.met()  "
   ]
  },
  {
   "cell_type": "markdown",
   "id": "3c875ba8",
   "metadata": {},
   "source": [
    "### Gradient Boosting"
   ]
  },
  {
   "cell_type": "code",
   "execution_count": 35,
   "id": "da93a75f",
   "metadata": {},
   "outputs": [],
   "source": [
    "from sklearn.ensemble import GradientBoostingRegressor"
   ]
  },
  {
   "cell_type": "code",
   "execution_count": 36,
   "id": "fe34bbcd",
   "metadata": {},
   "outputs": [],
   "source": [
    "gb=Laptop(x,y_robust,GradientBoostingRegressor())"
   ]
  },
  {
   "cell_type": "code",
   "execution_count": 37,
   "id": "e797fa90",
   "metadata": {},
   "outputs": [
    {
     "name": "stdout",
     "output_type": "stream",
     "text": [
      "Training Score: 0.9141911702411986\n",
      "Testing Score: 0.8233608035606991\n",
      "Mean Squared Error: 0.1948963528114478\n",
      "Root Mean Squared Error: 0.4414706703864344\n",
      "Mean Absolute Error: 0.28386969191311723\n",
      "R-squared: 0.7686683484919588\n"
     ]
    }
   ],
   "source": [
    "# Call the split method\n",
    "gb.split() \n",
    "\n",
    "# Call the mscore method\n",
    "gb.mscore()  \n",
    "\n",
    "# Call the met method\n",
    "gb.met()  "
   ]
  },
  {
   "cell_type": "markdown",
   "id": "dc4a7407",
   "metadata": {},
   "source": [
    "### XG Boosting"
   ]
  },
  {
   "cell_type": "code",
   "execution_count": 38,
   "id": "b58f268d",
   "metadata": {},
   "outputs": [],
   "source": [
    "from xgboost import XGBRegressor"
   ]
  },
  {
   "cell_type": "code",
   "execution_count": 39,
   "id": "efdbad42",
   "metadata": {},
   "outputs": [],
   "source": [
    "xgb=Laptop(x,y_robust,XGBRegressor())"
   ]
  },
  {
   "cell_type": "code",
   "execution_count": 40,
   "id": "2630f806",
   "metadata": {},
   "outputs": [
    {
     "name": "stdout",
     "output_type": "stream",
     "text": [
      "Training Score: 0.9948562920251238\n",
      "Testing Score: 0.8033907345073303\n",
      "Mean Squared Error: 0.21693049756726238\n",
      "Root Mean Squared Error: 0.46575798175368116\n",
      "Mean Absolute Error: 0.27420639044880735\n",
      "R-squared: 0.7728921694564826\n"
     ]
    }
   ],
   "source": [
    "# Call the split method\n",
    "xgb.split() \n",
    "\n",
    "# Call the mscore method\n",
    "xgb.mscore()  \n",
    "\n",
    "# Call the met method\n",
    "xgb.met()  "
   ]
  },
  {
   "cell_type": "code",
   "execution_count": null,
   "id": "10e7948b",
   "metadata": {},
   "outputs": [],
   "source": []
  },
  {
   "cell_type": "code",
   "execution_count": null,
   "id": "e93db3ef",
   "metadata": {},
   "outputs": [],
   "source": []
  },
  {
   "cell_type": "code",
   "execution_count": null,
   "id": "d81ef6c0",
   "metadata": {},
   "outputs": [],
   "source": []
  },
  {
   "cell_type": "code",
   "execution_count": null,
   "id": "f7a36c04",
   "metadata": {},
   "outputs": [],
   "source": []
  },
  {
   "cell_type": "code",
   "execution_count": null,
   "id": "450aa614",
   "metadata": {},
   "outputs": [],
   "source": []
  },
  {
   "cell_type": "code",
   "execution_count": null,
   "id": "ddd884fd",
   "metadata": {},
   "outputs": [],
   "source": []
  }
 ],
 "metadata": {
  "kernelspec": {
   "display_name": "Python 3 (ipykernel)",
   "language": "python",
   "name": "python3"
  },
  "language_info": {
   "codemirror_mode": {
    "name": "ipython",
    "version": 3
   },
   "file_extension": ".py",
   "mimetype": "text/x-python",
   "name": "python",
   "nbconvert_exporter": "python",
   "pygments_lexer": "ipython3",
   "version": "3.10.9"
  }
 },
 "nbformat": 4,
 "nbformat_minor": 5
}
